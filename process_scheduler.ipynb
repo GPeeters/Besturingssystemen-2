{
 "cells": [
  {
   "cell_type": "markdown",
   "id": "6098536a-62df-4451-8c43-2804476b1aec",
   "metadata": {},
   "source": [
    "# Opdracht\n",
    "## XML-dataset"
   ]
  },
  {
   "cell_type": "code",
   "execution_count": 1,
   "id": "21fe8f89-1381-4ec2-9551-297d3ba82763",
   "metadata": {},
   "outputs": [],
   "source": [
    "import xml.etree.ElementTree as ET\n",
    "import pandas as pd\n",
    "\n",
    "xml_20000 = open('processen20000.xml', 'r').read()  # Read file\n",
    "xml_10000 = open('processen10000.xml', 'r').read()\n",
    "# root = ET.XML(xml_data)  # Parse XML\n",
    "\n",
    "df_20000 = pd.read_xml(xml_20000)\n",
    "df_10000 = pd.read_xml(xml_10000)"
   ]
  },
  {
   "cell_type": "code",
   "execution_count": 2,
   "id": "dfa1d2e2-c685-4d3b-a630-cb39e613496f",
   "metadata": {},
   "outputs": [
    {
     "data": {
      "text/html": [
       "<div>\n",
       "<style scoped>\n",
       "    .dataframe tbody tr th:only-of-type {\n",
       "        vertical-align: middle;\n",
       "    }\n",
       "\n",
       "    .dataframe tbody tr th {\n",
       "        vertical-align: top;\n",
       "    }\n",
       "\n",
       "    .dataframe thead th {\n",
       "        text-align: right;\n",
       "    }\n",
       "</style>\n",
       "<table border=\"1\" class=\"dataframe\">\n",
       "  <thead>\n",
       "    <tr style=\"text-align: right;\">\n",
       "      <th></th>\n",
       "      <th>pid</th>\n",
       "      <th>arrivaltime</th>\n",
       "      <th>servicetime</th>\n",
       "    </tr>\n",
       "  </thead>\n",
       "  <tbody>\n",
       "    <tr>\n",
       "      <th>0</th>\n",
       "      <td>1</td>\n",
       "      <td>209</td>\n",
       "      <td>46</td>\n",
       "    </tr>\n",
       "    <tr>\n",
       "      <th>1</th>\n",
       "      <td>2</td>\n",
       "      <td>336</td>\n",
       "      <td>220</td>\n",
       "    </tr>\n",
       "    <tr>\n",
       "      <th>2</th>\n",
       "      <td>3</td>\n",
       "      <td>486</td>\n",
       "      <td>82</td>\n",
       "    </tr>\n",
       "    <tr>\n",
       "      <th>3</th>\n",
       "      <td>4</td>\n",
       "      <td>772</td>\n",
       "      <td>165</td>\n",
       "    </tr>\n",
       "    <tr>\n",
       "      <th>4</th>\n",
       "      <td>5</td>\n",
       "      <td>825</td>\n",
       "      <td>188</td>\n",
       "    </tr>\n",
       "  </tbody>\n",
       "</table>\n",
       "</div>"
      ],
      "text/plain": [
       "   pid  arrivaltime  servicetime\n",
       "0    1          209           46\n",
       "1    2          336          220\n",
       "2    3          486           82\n",
       "3    4          772          165\n",
       "4    5          825          188"
      ]
     },
     "execution_count": 2,
     "metadata": {},
     "output_type": "execute_result"
    }
   ],
   "source": [
    "df_10000.head()"
   ]
  },
  {
   "cell_type": "markdown",
   "id": "98d90737-c42e-427b-91db-bc679142cd51",
   "metadata": {},
   "source": [
    "De tijden zijn niet in seconden, maar in aantal JIFFY’s. Een JIFFY is de tijd tussen twee “system timer”-interrupts. Er kan enkel gescheduled worden, beslissen welk proces aan de beurt is, bij een interrupt. Hier is de waarde van de JIFFY 10 ms."
   ]
  },
  {
   "cell_type": "markdown",
   "id": "9f9868fc-204f-42c7-af23-a5a8cf5d5374",
   "metadata": {},
   "source": [
    "## Processtrategiën\n",
    "FCFS, SJF, SRT, RR, HRRN, en multilevel feedback mode."
   ]
  },
  {
   "cell_type": "markdown",
   "id": "2b8f7c9b-1f3c-4757-adff-7f1c29f2b8eb",
   "metadata": {},
   "source": [
    "Van het FCFS, SJF, SRT en HRRN algoritme maak je 1 versie. Het RR algoritme wordt geïmplementeerd met time slices q = 2, q = 4 en q = 8.\n",
    "Voor het multilevel feedback algoritme maak je twee versies, telkens met 5 wachtrijen. Maak hier zelf een goeie keuze voor de time slices per wachtrij.\n",
    "Motiveer de keuze in het verslag. Uiteraard mag je er meer implementeren dan deze. Schenk bij de implementatie van deze strategiëen aandacht aan het ontwerp.\n",
    "Indien de modellering goed verlopen is, zal je minder problemen hebben in deze fase.\n"
   ]
  },
  {
   "cell_type": "markdown",
   "id": "4602fd48-04c3-4ed5-b4c6-9aed82b24ffe",
   "metadata": {
    "tags": []
   },
   "source": [
    "## Evaluatie testresultaten\n",
    "\n",
    "Voor het evalueren van de scheduler bepaal je aan de hand van een testrun een aantal grootheden:\n",
    "- per proces: aankomsttijd, bedieningstijd , starttijd, eindtijd, omlooptijd, genormaliseerde omlooptijd en wachttijd\n",
    "- globale parameters: gemiddelde omlooptijd, gemiddelde genormaliseerde omlooptijd en gemiddelde wachttijd\n",
    "\n",
    "De resultaten breng je in twee grafieken:\n",
    "- genormaliseerde omlooptijd in functie van bedieningstijd\n",
    "- wachttijd in functie van bedieningstijd\n",
    "\n",
    "De bedieningstijd verdeel je in percentielen. Voorbeeld voor 20000 processen: het eerste percentiel bestaat\n",
    "uit de 200 kortste bedieningstijden."
   ]
  },
  {
   "cell_type": "code",
   "execution_count": 3,
   "id": "c5482989-aac6-4a62-a3f4-073122bb844e",
   "metadata": {},
   "outputs": [],
   "source": [
    "# berekenen globale parameters:\n",
    "\n",
    "def global_params(df, title):\n",
    "    ''' functie voor de globale parameters bruikbaar voor elke strategie '''\n",
    "    # gemiddelde omlooptijd:\n",
    "    tat = df[\"TAT\"].mean()\n",
    "\n",
    "    # gemiddelde genormaliseerde omlooptijd:\n",
    "    normtat = df[\"normTAT\"].mean()\n",
    "\n",
    "    # gemiddelde genormaliseerde omlooptijd:\n",
    "    wait = df[\"waittime\"].mean()\n",
    "\n",
    "    params = (tat, normtat, wait)\n",
    "    \n",
    "    print(\"===================\")\n",
    "    print(title)\n",
    "    print(\"===================\")\n",
    "    print (\"gemiddelde omlooptijd bedraagt: \"+ str(tat))\n",
    "    print (\"gemiddelde genormaliseerde omlooptijd bedraagt: \"+ str(normtat))\n",
    "    print (\"gemiddelde wachttijd bedraagt: \"+ str(wait))\n",
    "    return params\n",
    "\n",
    "# params_fcfs = global_params(df_fcfs, \"FCFS\")\n",
    "# params_fcfs"
   ]
  },
  {
   "cell_type": "code",
   "execution_count": 4,
   "id": "bcbf4bf6-a6d9-438e-8ab5-96fef1545466",
   "metadata": {},
   "outputs": [],
   "source": [
    "import numpy as np\n",
    "\n",
    "# omzetten naar percentielen voor grafieken ( we maken hier een functie die we kunnen herbruiken\n",
    "def df_to_perc(df):\n",
    "    ''' turns a dataframe with x rows into one with 100 rows containing averages of every group of  x/100 rows of the original dataframe '''\n",
    "    df_sort = df.sort_values('servicetime', axis = 0)\n",
    "    df_perc = df_sort.groupby(np.arange(len(df_sort))//(len(df_sort)/100)).mean()\n",
    "    df_fin = df_perc.drop(['pid','arrivaltime', 'starttime', 'TAT', 'endtime'], axis = 1)                            \n",
    "    return df_fin"
   ]
  },
  {
   "cell_type": "code",
   "execution_count": 5,
   "id": "43d170e1-00d2-455a-8b7e-b99b6fef0f43",
   "metadata": {},
   "outputs": [],
   "source": [
    "import matplotlib.pyplot as plt\n",
    "\n",
    "def evaluate(df, title):\n",
    "    ''' functie die de hele evaluatie maakt en uitprint van een dataframe die de nodige waarden bevat voor een scheduling strategie '''\n",
    "    params = global_params(df, title)\n",
    "    df_plot = df_to_perc(df)\n",
    "    plt.plot(range(0,100), df_plot['normTAT'])\n",
    "    plt.xlabel('percentiel van bedieningstijd')\n",
    "    plt.ylabel('genormaliseerde omlooptijd')\n",
    "    plt.show()\n",
    "    \n",
    "    plt.plot(range(0,100), df_plot['waittime']*10)\n",
    "    plt.xlabel('percentiel van bedieningstijd')\n",
    "    plt.ylabel('wachttijd [ms]')\n",
    "    plt.show()\n",
    "    \n",
    "# evaluate(df_fcfs, \"FCFS\")\n",
    "    \n"
   ]
  },
  {
   "cell_type": "markdown",
   "id": "9c56a469-2383-4bb8-91eb-21b68645c3b0",
   "metadata": {},
   "source": [
    "### FCFS\n",
    "First Come First Served.\n",
    "Implementatie: simpel, steeds bij de arrival time de service time optellen en kijken of het volgende proces heeft gewacht of niet."
   ]
  },
  {
   "cell_type": "code",
   "execution_count": 6,
   "id": "eb279f65-48eb-415e-8dd1-5449952cdb1e",
   "metadata": {},
   "outputs": [
    {
     "name": "stdout",
     "output_type": "stream",
     "text": [
      "===================\n",
      "FCFS voor 10000 processen\n",
      "===================\n",
      "gemiddelde omlooptijd bedraagt: 540.6591\n",
      "gemiddelde genormaliseerde omlooptijd bedraagt: 26.936940030909213\n",
      "gemiddelde wachttijd bedraagt: 441.0112\n"
     ]
    },
    {
     "data": {
      "image/png": "[encoded data removed]",
      "text/plain": [
       "<Figure size 432x288 with 1 Axes>"
      ]
     },
     "metadata": {
      "needs_background": "light"
     },
     "output_type": "display_data"
    },
    {
     "data": {
      "image/png": "[encoded data removed]",
      "text/plain": [
       "<Figure size 432x288 with 1 Axes>"
      ]
     },
     "metadata": {
      "needs_background": "light"
     },
     "output_type": "display_data"
    },
    {
     "name": "stdout",
     "output_type": "stream",
     "text": [
      "===================\n",
      "FCFS voor 20000 processen\n",
      "===================\n",
      "gemiddelde omlooptijd bedraagt: 536.4218\n",
      "gemiddelde genormaliseerde omlooptijd bedraagt: 22.967932932488004\n",
      "gemiddelde wachttijd bedraagt: 435.63885\n"
     ]
    },
    {
     "data": {
      "image/png": "[encoded data removed]",
      "text/plain": [
       "<Figure size 432x288 with 1 Axes>"
      ]
     },
     "metadata": {
      "needs_background": "light"
     },
     "output_type": "display_data"
    },
    {
     "data": {
      "image/png": "[encoded data removed]",
      "text/plain": [
       "<Figure size 432x288 with 1 Axes>"
      ]
     },
     "metadata": {
      "needs_background": "light"
     },
     "output_type": "display_data"
    }
   ],
   "source": [
    "# uitvoeren van de scheduler en berekenen van de grootheden per proces:\n",
    "def FCFS(df):\n",
    "    df_fcfs = df.copy()\n",
    "    df_fcfs[\"starttime\"] = df_fcfs[\"arrivaltime\"]\n",
    "    df_fcfs[\"waittime\"] = 0\n",
    "    df_fcfs[\"endtime\"] = df_fcfs[\"arrivaltime\"] + df_fcfs[\"servicetime\"]\n",
    "\n",
    "    for i in range(1, len(df_fcfs)):\n",
    "        # als het proces toekomt alvorens het vorige proces klaar is (deze if loop is als het ware de scheduler):\n",
    "        if df_fcfs.at[i-1, \"endtime\"] > df_fcfs.at[i, \"arrivaltime\"]: \n",
    "            # wachttijd berekenen\n",
    "            df_fcfs.at[i, \"waittime\"] = df_fcfs.at[i-1, \"endtime\"] - df_fcfs.at[i, \"arrivaltime\"] \n",
    "            # starttijd bijstellen met wachttijd\n",
    "            df_fcfs.at[i, \"starttime\"] = df_fcfs.at[i-1, \"endtime\"] \n",
    "        # eindtijd berekenen op basis van (aangepaste) starttijd en bedieningstijd\n",
    "        df_fcfs.at[i, \"endtime\"] = df_fcfs.at[i, \"starttime\"] + df_fcfs.at[i, \"servicetime\"] \n",
    "    # Na het uitvoeren van de scheduler berekenen we de TAT zoals gezien in de les: service time + wait time    \n",
    "    df_fcfs[\"TAT\"] = df_fcfs[\"servicetime\"] + df_fcfs[\"waittime\"]\n",
    "    # idem voor de genormaliseerde TAT:\n",
    "    df_fcfs[\"normTAT\"] = df_fcfs[\"TAT\"]/df_fcfs[\"servicetime\"]\n",
    "    \n",
    "    return df_fcfs\n",
    "\n",
    "evaluate(FCFS(df_10000), \"FCFS voor 10000 processen\")    \n",
    "evaluate(FCFS(df_20000), \"FCFS voor 20000 processen\") "
   ]
  },
  {
   "cell_type": "markdown",
   "id": "f87ec745-1339-4068-bcc5-a10194689298",
   "metadata": {
    "tags": []
   },
   "source": [
    "### SJF\n",
    "(In de cursus SPN = Shortest Process Next) </br>\n",
    "Shortest Job First. Implementatie: telkens er overgegaan wordt op een ander proces, eerst steeds alle processen in wacht sorteren op service time, dan in volgorde uitvoeren."
   ]
  },
  {
   "cell_type": "code",
   "execution_count": 8,
   "id": "d50d5844-590e-458f-a982-d5ab21be8b84",
   "metadata": {},
   "outputs": [
    {
     "ename": "UnboundLocalError",
     "evalue": "local variable 'j' referenced before assignment",
     "output_type": "error",
     "traceback": [
      "\u001b[1;31m---------------------------------------------------------------------------\u001b[0m",
      "\u001b[1;31mUnboundLocalError\u001b[0m                         Traceback (most recent call last)",
      "\u001b[1;32m~\\AppData\\Local\\Temp/ipykernel_20104/3337117263.py\u001b[0m in \u001b[0;36m<module>\u001b[1;34m\u001b[0m\n\u001b[0;32m     55\u001b[0m     \u001b[1;32mreturn\u001b[0m \u001b[0mdf_sjf\u001b[0m\u001b[1;33m\u001b[0m\u001b[1;33m\u001b[0m\u001b[0m\n\u001b[0;32m     56\u001b[0m \u001b[1;33m\u001b[0m\u001b[0m\n\u001b[1;32m---> 57\u001b[1;33m \u001b[0mevaluate\u001b[0m\u001b[1;33m(\u001b[0m\u001b[0mSJF\u001b[0m\u001b[1;33m(\u001b[0m\u001b[0mdf_10000\u001b[0m\u001b[1;33m)\u001b[0m\u001b[1;33m,\u001b[0m \u001b[1;34m\"SJF voor 10000 processen\"\u001b[0m\u001b[1;33m)\u001b[0m\u001b[1;33m\u001b[0m\u001b[1;33m\u001b[0m\u001b[0m\n\u001b[0m\u001b[0;32m     58\u001b[0m \u001b[0mevaluate\u001b[0m\u001b[1;33m(\u001b[0m\u001b[0mSJF\u001b[0m\u001b[1;33m(\u001b[0m\u001b[0mdf_20000\u001b[0m\u001b[1;33m)\u001b[0m\u001b[1;33m,\u001b[0m \u001b[1;34m\"SJF voor 20000 processen\"\u001b[0m\u001b[1;33m)\u001b[0m\u001b[1;33m\u001b[0m\u001b[1;33m\u001b[0m\u001b[0m\n",
      "\u001b[1;32m~\\AppData\\Local\\Temp/ipykernel_20104/3337117263.py\u001b[0m in \u001b[0;36mSJF\u001b[1;34m(df)\u001b[0m\n\u001b[0;32m     14\u001b[0m \u001b[1;33m\u001b[0m\u001b[0m\n\u001b[0;32m     15\u001b[0m     \u001b[1;32mfor\u001b[0m \u001b[0mi\u001b[0m \u001b[1;32min\u001b[0m \u001b[0mrange\u001b[0m\u001b[1;33m(\u001b[0m\u001b[0mdf_sjf\u001b[0m\u001b[1;33m.\u001b[0m\u001b[0mshape\u001b[0m\u001b[1;33m[\u001b[0m\u001b[1;36m0\u001b[0m\u001b[1;33m]\u001b[0m\u001b[1;33m)\u001b[0m\u001b[1;33m:\u001b[0m\u001b[1;33m\u001b[0m\u001b[1;33m\u001b[0m\u001b[0m\n\u001b[1;32m---> 16\u001b[1;33m         \u001b[0mtodo\u001b[0m\u001b[1;33m.\u001b[0m\u001b[0mappend\u001b[0m\u001b[1;33m(\u001b[0m\u001b[1;33m(\u001b[0m\u001b[0mdf_sjf\u001b[0m\u001b[1;33m.\u001b[0m\u001b[0mat\u001b[0m\u001b[1;33m[\u001b[0m\u001b[0mj\u001b[0m\u001b[1;33m,\u001b[0m \u001b[1;34m'pid'\u001b[0m\u001b[1;33m]\u001b[0m\u001b[1;33m,\u001b[0m \u001b[0mdf_sjf\u001b[0m\u001b[1;33m[\u001b[0m\u001b[1;34m\"arrivaltime\"\u001b[0m\u001b[1;33m]\u001b[0m\u001b[1;33m,\u001b[0m \u001b[0mdf_sjf\u001b[0m\u001b[1;33m.\u001b[0m\u001b[0mat\u001b[0m\u001b[1;33m[\u001b[0m\u001b[0mj\u001b[0m\u001b[1;33m,\u001b[0m \u001b[1;34m'servicetime'\u001b[0m\u001b[1;33m]\u001b[0m\u001b[1;33m)\u001b[0m\u001b[1;33m)\u001b[0m\u001b[1;33m\u001b[0m\u001b[1;33m\u001b[0m\u001b[0m\n\u001b[0m\u001b[0;32m     17\u001b[0m \u001b[1;33m\u001b[0m\u001b[0m\n\u001b[0;32m     18\u001b[0m \u001b[1;33m\u001b[0m\u001b[0m\n",
      "\u001b[1;31mUnboundLocalError\u001b[0m: local variable 'j' referenced before assignment"
     ]
    }
   ],
   "source": [
    "# uitvoeren van de scheduler en berekenen van de grootheden per proces:\n",
    "def SJF(df):\n",
    "    df_sjf = df.copy()\n",
    "    df_sjf[\"starttime\"] = 0\n",
    "    df_sjf[\"waittime\"] = 0\n",
    "    df_sjf[\"endtime\"] = df_sjf[\"arrivaltime\"] + df_sjf[\"servicetime\"]\n",
    "    \n",
    "    df_sjf.sort_values('arrivaltime', axis = 0)\n",
    "    \n",
    "    t = df_sjf.at[0, \"arrivaltime\"]\n",
    "    todo = []\n",
    "    queue = []\n",
    "    done = []\n",
    "    \n",
    "    for i in range(df_sjf.shape[0]):\n",
    "        todo.append((df_sjf.at[j, 'pid'], df_sjf.at[j, 'arrivaltime'], df_sjf.at[j, 'servicetime']))\n",
    "    \n",
    "    # we maken lijst met de processen die nog aan moeten komen en sorteren deze op arrivaltime\n",
    "    todo.sort(key=lambda row: row[1])\n",
    "    \n",
    "    while todo:\n",
    "        # Alle processen die in de tussentijd zijn gearriveerd toevoegen aan de queue\n",
    "        while todo[0][1] <= t:\n",
    "            queue.append(todo.pop(0))\n",
    "        \n",
    "        if not queue:\n",
    "            t = todo[0][1]\n",
    "            continue\n",
    "        \n",
    "        # we creëren telkens list om de queue te kunnen sorteren op service time:\n",
    "        temp = []\n",
    "        for j in queue:\n",
    "            temp.append((df_sjf.at[j, 'pid'], df_sjf.at[j, 'servicetime']))\n",
    "        temp.sort(key=lambda row: row[1])\n",
    "        \n",
    "        # Nu kunnen we voor het proces in kwestie de nodige waarden invullen:\n",
    "        index = df_sjf.index[df_sjf['pid'] == temp[0][0]][0]\n",
    "        df_sjf.at[index,\"starttime\"] = t\n",
    "        t = t + df_sjf.at[index,\"servicetime\"]\n",
    "        df_sjf.at[index,\"endtime\"] = t\n",
    "        queue.remove(index)\n",
    "        done.append(index)\n",
    "\n",
    "    # We berekenen de wait time door van de start time de arrival time af te trekken    \n",
    "    df_sjf[\"waittime\"] = df_sjf[\"starttime\"] - df_sjf[\"arrivaltime\"]\n",
    "    # We berekenen de TAT zoals gezien in de les: service time + wait time    \n",
    "    df_sjf[\"TAT\"] = df_sjf[\"servicetime\"] + df_sjf[\"waittime\"]\n",
    "    # idem voor de genormaliseerde TAT:\n",
    "    df_sjf[\"normTAT\"] = df_sjf[\"TAT\"]/df_sjf[\"servicetime\"]\n",
    "    \n",
    "    return df_sjf\n",
    "\n",
    "evaluate(SJF(df_10000), \"SJF voor 10000 processen\")    \n",
    "evaluate(SJF(df_20000), \"SJF voor 20000 processen\") "
   ]
  },
  {
   "cell_type": "code",
   "execution_count": null,
   "id": "462237d3-e53a-4566-b516-a86d81285572",
   "metadata": {},
   "outputs": [],
   "source": [
    "df_sjf.head(-20)"
   ]
  },
  {
   "cell_type": "markdown",
   "id": "b9a14810-43ea-4e98-ab65-4fe76bb86d3b",
   "metadata": {
    "tags": []
   },
   "source": [
    "### SRT\n",
    "Shortest Remaining Time. Implementatie:"
   ]
  },
  {
   "cell_type": "markdown",
   "id": "3d68998f-7cad-47a7-b550-c60ce4d38325",
   "metadata": {},
   "source": [
    "### RR\n",
    "Round Robin. Implementatie: Processor tijd wordt gelijk verdeelt onder alle processen die gearriveerd zijn tot ze. Werken met een queue waarop elk process aankomt en op de queue blijft tot het afgewerkt is."
   ]
  },
  {
   "cell_type": "code",
   "execution_count": null,
   "id": "62c3ebc3",
   "metadata": {},
   "outputs": [],
   "source": [
    "# RR implementatie\n",
    "\n",
    "def RR(df, q):\n",
    "    df_rr = df.copy()\n",
    "    df_rr[\"starttime\"] = 0\n",
    "    df_rr[\"waittime\"] = 0\n",
    "    df_rr[\"endtime\"] = 0\n",
    "    df_rr[\"rem_st\"] = df_rr[\"servicetime\"]  # extra kolom om de resterende service time bij te houden\n",
    "    \n",
    "    t = 0\n",
    "    df_rr.sort_values('arrivaltime')  # sorteren op arrival time\n",
    "    queue = []\n",
    "    \n",
    "    # beginnen bij het eerst gearriveerde proces\n",
    "    for i in range(df_rr.shape[0]-1):\n",
    "        # proces op de queue zetten\n",
    "        queue.append(i)\n",
    "        # zolang er geen nieuwkomer is op de FCFS queue gewoon de bestaande queue afwerken\n",
    "        while t < df_rr.at[i+1, \"arrivaltime\"]:\n",
    "            # Als er geen processen in de queue zitten onmiddelijk doorgaan naar het volgende proces\n",
    "            if not queue:\n",
    "                t = df_rr.at[i+1, \"arrivaltime\"]\n",
    "                break\n",
    "                \n",
    "            for j in queue:\n",
    "                # als het proces voor de eerste keer aan de beurt is starttijd invullen en wacht tijd bijtellen waar nodig\n",
    "                if df_rr.at[j, \"starttime\"] == 0:\n",
    "                    df_rr.at[j, \"starttime\"] = t\n",
    "                    df_rr.at[j, \"waittime\"] = df_rr.at[j, \"waittime\"] + df_rr.at[j, \"starttime\"] - df_rr.at[j, \"arrivaltime\"]\n",
    "\n",
    "                if df_rr.at[j, \"rem_st\"] > q:    \n",
    "                    t = t + q\n",
    "                    df_rr.at[j, \"rem_st\"] = df_rr.at[j, \"rem_st\"] - q\n",
    "                elif df_rr.at[j, \"rem_st\"] == q:\n",
    "                    t = t + q\n",
    "                    df_rr.at[j, \"rem_st\"] = 0\n",
    "                    df_rr.at[j, \"endtime\"] = t\n",
    "                    queue.remove(j)\n",
    "                else:\n",
    "                    t = t + df_rr.at[j, \"rem_st\"]\n",
    "                    df_rr.at[j, \"rem_st\"] = 0\n",
    "                    df_rr.at[j, \"endtime\"] = t\n",
    "                    queue.remove(j)\n",
    "        \n",
    "    # laatste proces nog correct toevoegen aan de queue en afhandelen\n",
    "    queue.append(df_rr.shape[0]-1)\n",
    "    while queue:\n",
    "        for j in queue:\n",
    "            # als het proces vor de eerste keer aan de beurt is starttijd invullen en wacht tijd bijtellen waar nodig\n",
    "            if df_rr.at[j, \"starttime\"] == 0:\n",
    "                df_rr.at[j, \"starttime\"] = t\n",
    "                df_rr.at[j, \"waittime\"] = df_rr.at[j, \"waittime\"] + df_rr.at[j, \"starttime\"] - df_rr.at[j, \"arrivaltime\"]\n",
    "\n",
    "            if df_rr.at[j, \"rem_st\"] > q:    \n",
    "                t = t + q\n",
    "                df_rr.at[j, \"rem_st\"] = df_rr.at[j, \"rem_st\"] - q\n",
    "            elif df_rr.at[j, \"rem_st\"] == q:\n",
    "                t = t + q\n",
    "                df_rr.at[j, \"rem_st\"] = 0\n",
    "                df_rr.at[j, \"endtime\"] = t\n",
    "                queue.remove(j)\n",
    "            else:\n",
    "                t = t + df_rr.at[j, \"rem_st\"]\n",
    "                df_rr.at[j, \"rem_st\"] = 0\n",
    "                df_rr.at[j, \"endtime\"] = t\n",
    "                queue.remove(j)\n",
    "                \n",
    "    # Als de queue volledig is afgewerkt doen we nog de laatste berekeningen:\n",
    "    ## we stellen de wait time bij, wacht tijd - start tijd - service tijd komt overeen met de tijd gespendeerd in wacht na de start\n",
    "    df_rr[\"waittime\"] = df_rr[\"waittime\"] + (df_rr[\"endtime\"] - df_rr[\"starttime\"] - df_rr[\"servicetime\"])\n",
    "    ## we berekenen de TAT zoals gezien in de les: service time + wait time    \n",
    "    df_rr[\"TAT\"] = df_rr[\"servicetime\"] + df_rr[\"waittime\"]\n",
    "    ## idem voor de genormaliseerde TAT:\n",
    "    df_rr[\"normTAT\"] = df_rr[\"TAT\"]/df_rr[\"servicetime\"]\n",
    "    \n",
    "    return df_rr\n",
    "\n",
    "evaluate(RR(df_10000,2), \"RR voor 10000 processen met q = 2\")  \n",
    "evaluate(RR(df_20000,2), \"RR voor 20000 processen met q = 2\")\n",
    "evaluate(RR(df_10000,4), \"RR voor 10000 processen met q = 4\")    \n",
    "evaluate(RR(df_20000,4), \"RR voor 20000 processen met q = 4\")\n",
    "evaluate(RR(df_10000,8), \"RR voor 10000 processen met q = 8\")    \n",
    "evaluate(RR(df_20000,8), \"RR voor 20000 processen met q = 8\")"
   ]
  },
  {
   "cell_type": "markdown",
   "id": "8a4c1d25-6886-4110-831b-df54b0e8d275",
   "metadata": {
    "tags": []
   },
   "source": [
    "### HRRN\n",
    "Highest Response Ratio Next. Implementatie:"
   ]
  },
  {
   "cell_type": "markdown",
   "id": "927068dd-67ed-4b8c-a7aa-40fd980aae41",
   "metadata": {
    "tags": []
   },
   "source": [
    "### MLFB\n",
    "MultiLevel FeedBack mode. Implementatie: (2 versies)"
   ]
  },
  {
   "cell_type": "code",
   "execution_count": 20,
   "id": "06a7b049",
   "metadata": {},
   "outputs": [
    {
     "data": {
      "text/html": [
       "<div>\n",
       "<style scoped>\n",
       "    .dataframe tbody tr th:only-of-type {\n",
       "        vertical-align: middle;\n",
       "    }\n",
       "\n",
       "    .dataframe tbody tr th {\n",
       "        vertical-align: top;\n",
       "    }\n",
       "\n",
       "    .dataframe thead th {\n",
       "        text-align: right;\n",
       "    }\n",
       "</style>\n",
       "<table border=\"1\" class=\"dataframe\">\n",
       "  <thead>\n",
       "    <tr style=\"text-align: right;\">\n",
       "      <th></th>\n",
       "      <th>pid</th>\n",
       "      <th>arrivaltime</th>\n",
       "      <th>servicetime</th>\n",
       "    </tr>\n",
       "  </thead>\n",
       "  <tbody>\n",
       "    <tr>\n",
       "      <th>0</th>\n",
       "      <td>1</td>\n",
       "      <td>209</td>\n",
       "      <td>46</td>\n",
       "    </tr>\n",
       "    <tr>\n",
       "      <th>1</th>\n",
       "      <td>2</td>\n",
       "      <td>336</td>\n",
       "      <td>220</td>\n",
       "    </tr>\n",
       "    <tr>\n",
       "      <th>2</th>\n",
       "      <td>3</td>\n",
       "      <td>486</td>\n",
       "      <td>82</td>\n",
       "    </tr>\n",
       "    <tr>\n",
       "      <th>3</th>\n",
       "      <td>4</td>\n",
       "      <td>772</td>\n",
       "      <td>165</td>\n",
       "    </tr>\n",
       "    <tr>\n",
       "      <th>4</th>\n",
       "      <td>5</td>\n",
       "      <td>825</td>\n",
       "      <td>188</td>\n",
       "    </tr>\n",
       "  </tbody>\n",
       "</table>\n",
       "</div>"
      ],
      "text/plain": [
       "   pid  arrivaltime  servicetime\n",
       "0    1          209           46\n",
       "1    2          336          220\n",
       "2    3          486           82\n",
       "3    4          772          165\n",
       "4    5          825          188"
      ]
     },
     "execution_count": 20,
     "metadata": {},
     "output_type": "execute_result"
    }
   ],
   "source": [
    "df_temp = df_10000.copy()\n",
    "df_temp.sort_values('arrivaltime', axis = 0)\n",
    "df_temp.head()"
   ]
  },
  {
   "cell_type": "code",
   "execution_count": null,
   "id": "939cbc83",
   "metadata": {},
   "outputs": [],
   "source": [
    "def SJF(df):\n",
    "    df_sjf = df.copy()\n",
    "    df_sjf[\"starttime\"] = 0\n",
    "    df_sjf[\"waittime\"] = 0\n",
    "    df_sjf[\"endtime\"] = df_sjf[\"arrivaltime\"] + df_sjf[\"servicetime\"]\n",
    "    \n",
    "    df_sjf.sort_values('arrivaltime', axis = 0)\n",
    "    \n",
    "    t = df_sjf.at[0, \"arrivaltime\"]\n",
    "    queue = []\n",
    "    done = []\n",
    "        \n",
    "\n",
    "    for i in range(df_sjf.shape[0]):\n",
    "        # Alle processen die in de tussentijd zijn gearriveerd toevoegen aan de queue\n",
    "        while df_sjf.at[i, \"arrivaltime\"] <= t:\n",
    "            if i not in done:\n",
    "                if i not in queue:\n",
    "                    queue.append(i)\n",
    "            i = i+1\n",
    "            if i >= df_sjf.shape[0]:\n",
    "                break\n",
    "        \n",
    "        # zodat de functie niet vast komt te zitten\n",
    "        if not queue:\n",
    "            t = df_sjf.at[i, \"arrivaltime\"]\n",
    "            queue.append(i)\n",
    "            \n",
    "        # we creëren telkens list om de queue te kunnen sorteren op service time:\n",
    "        temp = []\n",
    "        for j in queue:\n",
    "            temp.append((df_sjf.at[j, 'pid'], df_sjf.at[j, 'servicetime']))\n",
    "        temp.sort(key=lambda row: row[1])\n",
    "        \n",
    "        # Nu kunnen we voor het proces in kwestie de nodige waarden invullen:\n",
    "        index = df_sjf.index[df_sjf['pid'] == temp[0][0]][0]\n",
    "        df_sjf.at[index,\"starttime\"] = t\n",
    "        t = t + df_sjf.at[index,\"servicetime\"]\n",
    "        df_sjf.at[index,\"endtime\"] = t\n",
    "        queue.remove(index)\n",
    "        done.append(index)\n",
    "        \n",
    "    # We berekenen de wait time door van de start time de arrival time af te trekken    \n",
    "    df_sjf[\"waittime\"] = df_sjf[\"starttime\"] - df_sjf[\"arrivaltime\"]\n",
    "    # We berekenen de TAT zoals gezien in de les: service time + wait time    \n",
    "    df_sjf[\"TAT\"] = df_sjf[\"servicetime\"] + df_sjf[\"waittime\"]\n",
    "    # idem voor de genormaliseerde TAT:\n",
    "    df_sjf[\"normTAT\"] = df_sjf[\"TAT\"]/df_sjf[\"servicetime\"]\n",
    "    \n",
    "    return df_sjf\n",
    "\n",
    "evaluate(SJF(df_10000), \"SJF voor 10000 processen\")    \n",
    "evaluate(SJF(df_20000), \"SJF voor 20000 processen\")"
   ]
  }
 ],
 "metadata": {
  "kernelspec": {
   "display_name": "Python 3 (ipykernel)",
   "language": "python",
   "name": "python3"
  },
  "language_info": {
   "codemirror_mode": {
    "name": "ipython",
    "version": 3
   },
   "file_extension": ".py",
   "mimetype": "text/x-python",
   "name": "python",
   "nbconvert_exporter": "python",
   "pygments_lexer": "ipython3",
   "version": "3.9.5"
  }
 },
 "nbformat": 4,
 "nbformat_minor": 5
}
